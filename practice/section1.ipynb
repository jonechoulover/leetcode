{
 "cells": [
  {
   "cell_type": "markdown",
   "metadata": {},
   "source": [
    "## 3111题 覆盖所有点的最少矩形数目\n",
    "### 本题官方的解题思路是贪心算法，刚开始我以为是使用指针，开始写代码的时候发现怎么写都有bug。"
   ]
  },
  {
   "cell_type": "code",
   "execution_count": 4,
   "metadata": {},
   "outputs": [
    {
     "data": {
      "text/plain": [
       "2"
      ]
     },
     "execution_count": 4,
     "metadata": {},
     "output_type": "execute_result"
    }
   ],
   "source": [
    "from typing import List\n",
    "class Solution:\n",
    "    def minRectanglesToCoverPoints(self, points: List[List[int]], w: int) -> int:\n",
    "        mini_count = 0\n",
    "        condition_value = -1\n",
    "        points.sort()\n",
    "        for value in points:\n",
    "            if value[0] > condition_value:\n",
    "                condition_value = value[0]+w\n",
    "                mini_count += 1\n",
    "        return mini_count\n",
    "\n",
    "points = [[2,1],[1,0],[1,4],[1,8],[3,5],[4,6]]; w = 1\n",
    "Solution().minRectanglesToCoverPoints(points,w)"
   ]
  },
  {
   "cell_type": "markdown",
   "metadata": {},
   "source": [
    "## LCP 40.心算挑战\n",
    "### 本题的解题思路还是贪心算法，第一次没有做出来，看了官方的解题思路恍然大悟"
   ]
  },
  {
   "cell_type": "code",
   "execution_count": 24,
   "metadata": {},
   "outputs": [
    {
     "data": {
      "text/plain": [
       "18"
      ]
     },
     "execution_count": 24,
     "metadata": {},
     "output_type": "execute_result"
    }
   ],
   "source": [
    "from typing import List\n",
    "class Solution:\n",
    "    def maxmiumScore(self, cards: List[int], cnt: int) -> int:\n",
    "        cards.sort(reverse=True)\n",
    "        tmp = 0\n",
    "        odd = even = -1\n",
    "        res = 0\n",
    "        for i in range(cnt):\n",
    "            if cards[i] % 2 == 0:\n",
    "                even = cards[i]\n",
    "            else:\n",
    "                odd = cards[i]\n",
    "            tmp += cards[i]\n",
    "        if tmp % 2 == 0:\n",
    "            return tmp\n",
    "        else:\n",
    "            for i in range(cnt,len(cards)):\n",
    "                if cards[i] % 2 == 1:\n",
    "                    if even != -1:\n",
    "                        res = max(res,tmp-even+cards[i])\n",
    "                else:\n",
    "                    if odd != -1:\n",
    "                        res = max(res,tmp-odd+cards[i])\n",
    "        return res\n",
    "        \n",
    "\n",
    "cards=[9,5,9,1,6,10,3,4,5,1];cnt=2\n",
    "\n",
    "Solution().maxmiumScore(cards,cnt)"
   ]
  },
  {
   "cell_type": "markdown",
   "metadata": {},
   "source": [
    "## 第3128题.直角三角形的数量"
   ]
  },
  {
   "cell_type": "code",
   "execution_count": 10,
   "metadata": {},
   "outputs": [
    {
     "data": {
      "text/plain": [
       "2"
      ]
     },
     "execution_count": 10,
     "metadata": {},
     "output_type": "execute_result"
    }
   ],
   "source": [
    "from typing import List\n",
    "class Solution:\n",
    "    def numberOfRightTriangles(self, grid: List[List[int]]) -> int:\n",
    "        row_num = len(grid)\n",
    "        col_num = len(grid[0])\n",
    "        res = 0\n",
    "        col = [0]*col_num\n",
    "        for j in range(col_num):\n",
    "            for i in range(row_num):\n",
    "                col[j] += grid[i][j]\n",
    "        for i in range(row_num):\n",
    "            row = sum(grid[i])\n",
    "            for j in range(col_num):\n",
    "                if grid[i][j] == 1:\n",
    "                    res += (row-1)*(col[j]-1)\n",
    "        return res\n",
    "grid = [[1,0,0,0],[0,1,0,1],[1,0,0,0]]\n",
    "grid = [[0,1,0],[0,1,1],[0,1,0]]\n",
    "Solution().numberOfRightTriangles(grid)"
   ]
  },
  {
   "cell_type": "markdown",
   "metadata": {},
   "source": [
    "## 第3143题. 正方形中的最多点数"
   ]
  },
  {
   "cell_type": "code",
   "execution_count": 45,
   "metadata": {},
   "outputs": [
    {
     "data": {
      "text/plain": [
       "2"
      ]
     },
     "execution_count": 45,
     "metadata": {},
     "output_type": "execute_result"
    }
   ],
   "source": [
    "from typing import List\n",
    "class Solution:\n",
    "    def maxPointsInsideSquare(self, points: List[List[int]], s: str) -> int:\n",
    "        min1 = [inf]*26\n",
    "        min2 = inf\n",
    "        n = len(s)\n",
    "        for i in range(n):\n",
    "            x,y = points[i]\n",
    "            j = ord(s[i])-ord('a')\n",
    "            d = max(abs(x),abs(y))\n",
    "            if d < min1[j]:\n",
    "                min2 = min(min1[j],min2)\n",
    "                min1[j] = d\n",
    "            elif d < min2:\n",
    "                min2 = d\n",
    "        return sum(d < min2 for d in min1)\n",
    "\n",
    "\n",
    "points = [[16,32],[27,3],[23,-14],[-32,-16],[-3,26],[-14,33]];s=\"aaabfc\"\n",
    "Solution().maxPointsInsideSquare(points,s)"
   ]
  },
  {
   "cell_type": "markdown",
   "metadata": {},
   "source": [
    "## 第572题. 另一个树的子树\n"
   ]
  },
  {
   "cell_type": "code",
   "execution_count": 3,
   "metadata": {},
   "outputs": [],
   "source": [
    "# Definition for a binary tree node.\n",
    "from typing import Optional\n",
    "class TreeNode:\n",
    "    def __init__(self, val=0, left=None, right=None):\n",
    "        self.val = val\n",
    "        self.left = left\n",
    "        self.right = right\n",
    "class Solution:\n",
    "    def isSubtree(self, root: Optional[TreeNode], subRoot: Optional[TreeNode]) -> bool:\n",
    "        return self.dfs(root, subRoot)\n",
    "    \n",
    "    def dfs(self, c, t):\n",
    "        # c 子树为空时，返回 False\n",
    "        if not c:\n",
    "            return False\n",
    "        return self.is_same(c, t) or self.dfs(c.left, t) or self.dfs(c.right, t)\n",
    "    \n",
    "    def is_same(self, c, t):\n",
    "        # 两个树都为空时，也认为是相同\n",
    "        if (not c) and (not t):\n",
    "            return True\n",
    "        # 当其中一个树为空，但另外一个树不为空时，此时则为不同\n",
    "        if (not c and t) or (c and not t):\n",
    "            return False\n",
    "        # 两个树都不为空，若值不同，也为不同\n",
    "        if (c.val != t.val):\n",
    "            return False\n",
    "        # 上面的情况都不符合时，继续向下检查\n",
    "        return self.is_same(c.left, t.left) and self.is_same(c.right, t.right)\n",
    "\n"
   ]
  },
  {
   "cell_type": "code",
   "execution_count": null,
   "metadata": {},
   "outputs": [],
   "source": []
  }
 ],
 "metadata": {
  "kernelspec": {
   "display_name": "pytorch",
   "language": "python",
   "name": "python3"
  },
  "language_info": {
   "codemirror_mode": {
    "name": "ipython",
    "version": 3
   },
   "file_extension": ".py",
   "mimetype": "text/x-python",
   "name": "python",
   "nbconvert_exporter": "python",
   "pygments_lexer": "ipython3",
   "version": "3.8.8"
  }
 },
 "nbformat": 4,
 "nbformat_minor": 2
}
