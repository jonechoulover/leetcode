{
 "cells": [
  {
   "cell_type": "markdown",
   "metadata": {},
   "source": [
    "## 3111题 覆盖所有点的最少矩形数目\n",
    "### 本题官方的解题思路是贪心算法，刚开始我以为是使用指针，开始写代码的时候发现怎么写都有bug。"
   ]
  },
  {
   "cell_type": "code",
   "execution_count": 4,
   "metadata": {},
   "outputs": [
    {
     "data": {
      "text/plain": [
       "2"
      ]
     },
     "execution_count": 4,
     "metadata": {},
     "output_type": "execute_result"
    }
   ],
   "source": [
    "from typing import List\n",
    "class Solution:\n",
    "    def minRectanglesToCoverPoints(self, points: List[List[int]], w: int) -> int:\n",
    "        mini_count = 0\n",
    "        condition_value = -1\n",
    "        points.sort()\n",
    "        for value in points:\n",
    "            if value[0] > condition_value:\n",
    "                condition_value = value[0]+w\n",
    "                mini_count += 1\n",
    "        return mini_count\n",
    "\n",
    "points = [[2,1],[1,0],[1,4],[1,8],[3,5],[4,6]]; w = 1\n",
    "Solution().minRectanglesToCoverPoints(points,w)"
   ]
  }
 ],
 "metadata": {
  "kernelspec": {
   "display_name": "pytorch",
   "language": "python",
   "name": "python3"
  },
  "language_info": {
   "codemirror_mode": {
    "name": "ipython",
    "version": 3
   },
   "file_extension": ".py",
   "mimetype": "text/x-python",
   "name": "python",
   "nbconvert_exporter": "python",
   "pygments_lexer": "ipython3",
   "version": "3.8.8"
  }
 },
 "nbformat": 4,
 "nbformat_minor": 2
}
